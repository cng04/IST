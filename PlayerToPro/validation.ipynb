{
 "cells": [
  {
   "cell_type": "code",
   "execution_count": 16,
   "metadata": {},
   "outputs": [],
   "source": [
    "import pandas as pd"
   ]
  },
  {
   "cell_type": "code",
   "execution_count": 17,
   "metadata": {},
   "outputs": [
    {
     "name": "stdout",
     "output_type": "stream",
     "text": [
      "Unique players in cleaned_usports_player_box_score_stats.xlsx: 953\n",
      "Unique players in pro_season_data.xlsx: 953\n"
     ]
    }
   ],
   "source": [
    "df1 = pd.read_excel(\"data/cleaned_usports_player_box_score_stats.xlsx\", engine=\"openpyxl\")\n",
    "df2 = pd.read_excel(\"data/pro_season_data.xlsx\", engine=\"openpyxl\")\n",
    "\n",
    "players1 = set(df1[\"Player\"].dropna().unique())\n",
    "players2 = set(df2[\"Player\"].dropna().unique())\n",
    "\n",
    "# Count unique players in each\n",
    "unique_players_df1 = df1[\"Player\"].nunique()\n",
    "unique_players_df2 = df2[\"Player\"].nunique()\n",
    "\n",
    "print(f\"Unique players in cleaned_usports_player_box_score_stats.xlsx: {unique_players_df1}\")\n",
    "print(f\"Unique players in pro_season_data.xlsx: {unique_players_df2}\")"
   ]
  },
  {
   "cell_type": "code",
   "execution_count": 18,
   "metadata": {},
   "outputs": [
    {
     "name": "stdout",
     "output_type": "stream",
     "text": [
      "Both sheets have the same set of players.\n"
     ]
    }
   ],
   "source": [
    "only_in_df1 = players1 - players2\n",
    "only_in_df2 = players2 - players1\n",
    "\n",
    "\n",
    "if only_in_df1:\n",
    "    print(\"Players only in cleaned_usports_player_box_score_stats.xlsx:\")\n",
    "    for p in sorted(only_in_df1):\n",
    "        print(\"  -\", p)\n",
    "\n",
    "if only_in_df2:\n",
    "    print(\"\\nPlayers only in pro_season_data.xlsx:\")\n",
    "    for p in sorted(only_in_df2):\n",
    "        print(\"  -\", p)\n",
    "\n",
    "if not only_in_df1 and not only_in_df2:\n",
    "    print(\"Both sheets have the same set of players.\")\n"
   ]
  },
  {
   "cell_type": "code",
   "execution_count": null,
   "metadata": {},
   "outputs": [],
   "source": []
  }
 ],
 "metadata": {
  "kernelspec": {
   "display_name": ".venv",
   "language": "python",
   "name": "python3"
  },
  "language_info": {
   "codemirror_mode": {
    "name": "ipython",
    "version": 3
   },
   "file_extension": ".py",
   "mimetype": "text/x-python",
   "name": "python",
   "nbconvert_exporter": "python",
   "pygments_lexer": "ipython3",
   "version": "3.12.10"
  }
 },
 "nbformat": 4,
 "nbformat_minor": 2
}
